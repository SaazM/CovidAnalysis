{
 "cells": [
  {
   "cell_type": "code",
   "execution_count": 150,
   "metadata": {},
   "outputs": [
    {
     "data": {
      "text/plain": [
       "('data/popCounty/Corona-counties.csv',\n",
       " <http.client.HTTPMessage at 0x1238af310>)"
      ]
     },
     "execution_count": 150,
     "metadata": {},
     "output_type": "execute_result"
    }
   ],
   "source": [
    "import pandas as pd\n",
    "import numpy as np\n",
    "import scipy.stats as stats\n",
    "import re\n",
    "import os\n",
    "import urllib\n",
    "from scipy.stats import ttest_ind\n",
    "url = \"https://raw.githubusercontent.com/nytimes/covid-19-data/master/live/us-counties.csv\"\n",
    "file_path = os.path.join(\"data\", \"covidCounty\")\n",
    "os.makedirs(file_path, exist_ok=True)\n",
    "csv_path = os.path.join(file_path, \"Corona-counties.csv\")\n",
    "urllib.request.urlretrieve(url, csv_path)\n",
    "url2 = \"https://www2.census.gov/programs-surveys/popest/datasets/2010-2019/counties/totals/co-est2019-alldata.csv\"\n",
    "file_path2 = os.path.join(\"data\", \"popCounty\")\n",
    "os.makedirs(file_path2, exist_ok=True)\n",
    "csv_path2 = os.path.join(file_path2, \"Corona-counties.csv\")\n",
    "urllib.request.urlretrieve(url2, csv_path2)"
   ]
  },
  {
   "cell_type": "code",
   "execution_count": 151,
   "metadata": {},
   "outputs": [
    {
     "name": "stdout",
     "output_type": "stream",
     "text": [
      "Ttest_indResult(statistic=67.30921819816739, pvalue=0.0)\n"
     ]
    }
   ],
   "source": [
    "df = pd.read_csv(csv_path)\n",
    "df2 = pd.read_csv(\"data/2020-q3-county-median-home-prices-by-price-01-06-2020.csv\", skiprows=[1,2,3,4,5,3125,3126,3127,3128])\n",
    "df3 = pd.read_csv(csv_path2)\n",
    "df2.rename(columns={\"Unnamed: 0\":\"County\",\"Unnamed: 1\":\"State\", \"Unnamed: 3\": \"Price\",\"Unnamed: 5\":\"Monthly(2.76)\",\"Unnamed: 7\":\"Monthly(3.73)\"},inplace=True)\n",
    "df2.drop(columns=[\"Unnamed: 2\",\"Monthly\",\"Monthly.1\"],inplace=True)\n",
    "df2[\"County\"] = df2.apply(lambda x:re.findall(\"(.+?)(?=( County,$| city,$| Parish,$| Borough,$|,$))\",x[\"County\"])[0][0], axis=1)\n",
    "df[\"Name\"] = df.apply(lambda x: x[\"county\"]+\", \"+x[\"state\"], axis=1)\n",
    "df2[\"Name\"] = df2.apply(lambda x: x[\"County\"]+\", \"+x[\"State\"], axis=1)\n",
    "df.set_index(\"Name\",inplace=True)\n",
    "df2.set_index(\"Name\",inplace=True)\n",
    "mergedH = pd.merge(df2,df,how=\"inner\",left_index=True,right_index=True)\n",
    "df3.drop(df3.columns.difference(['POPESTIMATE2019','CTYNAME',\"STNAME\"]), 1, inplace=True)\n",
    "df3[\"CTYNAME\"] = df3.apply(lambda x:re.findall(\"(.+?)(?=( County$| city$| Parish$| Borough$|$))\",x[\"CTYNAME\"])[0][0], axis=1)\n",
    "df3[\"Name\"] = df3.apply(lambda x: x[\"CTYNAME\"]+\", \"+x[\"STNAME\"], axis=1)\n",
    "df3.set_index(\"Name\", inplace=True)\n",
    "merged=pd.merge(mergedH,df3,how=\"inner\",left_index=True,right_index=True)\n",
    "merged.drop(merged.columns.difference([\"Price\",'Monthly(2.76)',\"Monthly(3.73)\",\"cases\",\"deaths\"]), 1, inplace=True)\n",
    "merged[\"rate\"] = merged.apply(lambda x: (x[\"deaths\"]/x[\"cases\"])*100, axis=1)\n",
    "merged[\"Price\"] = merged.apply(lambda x: int(x[\"Price\"].replace(',', '')), axis=1)\n",
    "merged = merged[merged.cases>2000]\n",
    "print(ttest_ind(merged[\"Price\"], merged[\"rate\"]))\n",
    "sortedF = merged.sort_values(by=['rate'])\n"
   ]
  },
  {
   "cell_type": "code",
   "execution_count": null,
   "metadata": {},
   "outputs": [],
   "source": []
  },
  {
   "cell_type": "code",
   "execution_count": null,
   "metadata": {},
   "outputs": [],
   "source": []
  },
  {
   "cell_type": "code",
   "execution_count": null,
   "metadata": {},
   "outputs": [],
   "source": []
  }
 ],
 "metadata": {
  "kernelspec": {
   "display_name": "Python 3",
   "language": "python",
   "name": "python3"
  },
  "language_info": {
   "codemirror_mode": {
    "name": "ipython",
    "version": 3
   },
   "file_extension": ".py",
   "mimetype": "text/x-python",
   "name": "python",
   "nbconvert_exporter": "python",
   "pygments_lexer": "ipython3",
   "version": "3.8.5"
  }
 },
 "nbformat": 4,
 "nbformat_minor": 4
}
